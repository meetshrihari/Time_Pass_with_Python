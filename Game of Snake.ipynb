{
 "cells": [
  {
   "cell_type": "code",
   "execution_count": 55,
   "metadata": {},
   "outputs": [
    {
     "ename": "NameError",
     "evalue": "name 'snake_head' is not defined",
     "output_type": "error",
     "traceback": [
      "\u001b[0;31m---------------------------------------------------------------------------\u001b[0m",
      "\u001b[0;31mNameError\u001b[0m                                 Traceback (most recent call last)",
      "\u001b[0;32m<ipython-input-55-cff9e634f95c>\u001b[0m in \u001b[0;36m<module>\u001b[0;34m()\u001b[0m\n\u001b[1;32m     54\u001b[0m \u001b[0;31m# Otherwise, snake moves as it is.\u001b[0m\u001b[0;34m\u001b[0m\u001b[0;34m\u001b[0m\u001b[0;34m\u001b[0m\u001b[0m\n\u001b[1;32m     55\u001b[0m \u001b[0;34m\u001b[0m\u001b[0m\n\u001b[0;32m---> 56\u001b[0;31m \u001b[0;32mif\u001b[0m \u001b[0msnake_head\u001b[0m \u001b[0;34m==\u001b[0m \u001b[0mrat_pos\u001b[0m\u001b[0;34m:\u001b[0m\u001b[0;34m\u001b[0m\u001b[0;34m\u001b[0m\u001b[0m\n\u001b[0m\u001b[1;32m     57\u001b[0m     \u001b[0mrat_pos\u001b[0m\u001b[0;34m,\u001b[0m \u001b[0mscore\u001b[0m \u001b[0;34m=\u001b[0m \u001b[0mcollision_with_rat\u001b[0m\u001b[0;34m(\u001b[0m\u001b[0mrat_pos\u001b[0m\u001b[0;34m,\u001b[0m \u001b[0mscore\u001b[0m\u001b[0;34m)\u001b[0m\u001b[0;34m\u001b[0m\u001b[0;34m\u001b[0m\u001b[0m\n\u001b[1;32m     58\u001b[0m     \u001b[0msnake_pos\u001b[0m\u001b[0;34m.\u001b[0m\u001b[0minsert\u001b[0m\u001b[0;34m(\u001b[0m\u001b[0;36m0\u001b[0m\u001b[0;34m,\u001b[0m \u001b[0mlist\u001b[0m\u001b[0;34m(\u001b[0m\u001b[0msnake_head\u001b[0m\u001b[0;34m)\u001b[0m\u001b[0;34m)\u001b[0m\u001b[0;34m\u001b[0m\u001b[0;34m\u001b[0m\u001b[0m\n",
      "\u001b[0;31mNameError\u001b[0m: name 'snake_head' is not defined"
     ]
    }
   ],
   "source": [
    "import numpy as np\n",
    "import cv2\n",
    "import random\n",
    "\n",
    "# Prepare an Image of 500x500 size with black color - use of all zeros\n",
    "\n",
    "img = np.zeros((500,500,3), dtype='uint8') # (3D,2D,1D)\n",
    "\n",
    "# start with the snake, build a snake block (10 pix) at the centre (250,250), position will be (245,245)\n",
    "\n",
    "# use green color for snake\n",
    "# displaying green rectangle as snake\n",
    "\n",
    "snake_pos = [[250,250],[240,250],[230,250]]\n",
    "\n",
    "for position in snake_pos:\n",
    "    cv2.rectangle(img, (position[0],position[1]),(position[0]+10,position[0]+10),(0,255,0),3)\n",
    "    \n",
    "# Display of Rat\n",
    "\n",
    "rat_pos = [random.randrange(1,50)*10,random.randrange(1,50)*10]\n",
    "cv2.rectangle(img,(rat_pos[0],rat_pos[1]),(rat_pos[0]+10,rat_pos[1]*10),(0,255,0),3);\n",
    "\n",
    "\n",
    "# Collision with the boundaries\n",
    "# If the snake collides with the boundaries, it dies.\n",
    "\n",
    "def collision_with_boundary(snake_head):\n",
    "    if snake_head[0]>=500 or snake_head[0]<=0 or snake_head[1]>=500 or snake_head[0]<=0:\n",
    "        return 1\n",
    "    else:\n",
    "        return 0\n",
    "\n",
    "# Collision with self: If the snake collides with itself, it should die. \n",
    "# For this, we only need to check whether the snake’s head is in snake body or not.\n",
    "\n",
    "def collision_with_self(snake_head):\n",
    "    snake_head = snake_pos[0]\n",
    "    if snake_head in snake_pos[1:]:\n",
    "        return 1\n",
    "    else:\n",
    "        return 0\n",
    "    \n",
    "\n",
    "# Collision with rat: If the snake collides with the apple, \n",
    "# the score is increased and the apple is moved to a new location.\n",
    "\n",
    "def collision_with_rat(rat_pos, score):\n",
    "    rat_pos = [random.randrange(1,500),random.randrange(1,500)]\n",
    "    score += 1\n",
    "    return rat_pos, score\n",
    "\n",
    "# Also, on eating apple snake length should increase. \n",
    "# Otherwise, snake moves as it is.\n",
    "\n",
    "if snake_head == rat_pos:\n",
    "    rat_pos, score = collision_with_rat(rat_pos, score)\n",
    "    snake_pos.insert(0, list(snake_head))\n",
    "\n",
    "else:\n",
    "    snake_position.insert(0,list(snake_head))\n",
    "    snake_position.pop()\n",
    "        \n",
    "\n",
    "t_end = time.time() + 0.2\n",
    "k = -1\n",
    "while time.time() < t_end:\n",
    "    if k == -1:\n",
    "        k = cv2.waitKey(125)\n",
    "    else:\n",
    "        continue\n",
    "\n",
    "# Snake cannot move backward: Here, I have used the w, a, s, d controls for moving the snake. \n",
    "# If the snake was moving right and we pressed the left button, \n",
    "# it will continue moving right or in short snake cannot directly move backwards.\n",
    "\n",
    "# 0-Left, 1-Right, 3-Up, 2-Down, q-Break\n",
    "# a-Left, d-Right, w-Up, s-Down\n",
    "if k == ord('a') and prev_button_direction != 1:\n",
    "    button_direction = 0\n",
    "elif k == ord('d') and prev_button_direction != 0:\n",
    "    button_direction = 1\n",
    "elif k == ord('w') and prev_button_direction != 2:\n",
    "    button_direction = 3\n",
    "elif k == ord('s') and prev_button_direction != 3:\n",
    "    button_direction = 2\n",
    "elif k == ord('q'):\n",
    "    break\n",
    "else:\n",
    "    button_direction = button_direction\n",
    "    \n",
    "    \n",
    "# After seeing which direction button is pressed, we change our head position\n",
    "\n",
    "if button_direction == 1:\n",
    "    snake_head[0] += 10\n",
    "elif button_direction == 0:\n",
    "    snake_head[0] -= 10\n",
    "elif button_direction == 2:\n",
    "    snake_head[1] += 10\n",
    "elif button_direction == 3:\n",
    "    snake_head[1] -= 10\n",
    "    \n",
    "    \n",
    "# Displaying the final Score\n",
    "# For displaying the final score, i have used cv2.putText() function.\n",
    "\n",
    "if collision_with_boundaries(snake_head) == 1 or collision_with_self(snake_position) == 1:\n",
    "    font = cv2.FONT_HERSHEY_SIMPLEX\n",
    "    img = np.zeros((500,500,3),dtype='uint8')\n",
    "    cv2.putText(img,'Your Score is {}'.format(score),(140,250), font, 1,(255,255,255),2,cv2.LINE_AA)\n",
    "    cv2.imshow('a',img)\n",
    "    cv2.waitKey(0)\n",
    "    break\n",
    "    \n"
   ]
  },
  {
   "cell_type": "code",
   "execution_count": null,
   "metadata": {},
   "outputs": [],
   "source": []
  },
  {
   "cell_type": "code",
   "execution_count": 2,
   "metadata": {},
   "outputs": [],
   "source": []
  },
  {
   "cell_type": "code",
   "execution_count": 3,
   "metadata": {},
   "outputs": [],
   "source": []
  },
  {
   "cell_type": "code",
   "execution_count": 4,
   "metadata": {},
   "outputs": [],
   "source": []
  },
  {
   "cell_type": "code",
   "execution_count": 5,
   "metadata": {},
   "outputs": [],
   "source": []
  },
  {
   "cell_type": "code",
   "execution_count": 6,
   "metadata": {},
   "outputs": [],
   "source": []
  },
  {
   "cell_type": "code",
   "execution_count": 7,
   "metadata": {},
   "outputs": [],
   "source": []
  },
  {
   "cell_type": "code",
   "execution_count": 8,
   "metadata": {},
   "outputs": [],
   "source": []
  },
  {
   "cell_type": "code",
   "execution_count": 53,
   "metadata": {},
   "outputs": [
    {
     "ename": "NameError",
     "evalue": "name 'snake_head' is not defined",
     "output_type": "error",
     "traceback": [
      "\u001b[0;31m---------------------------------------------------------------------------\u001b[0m",
      "\u001b[0;31mNameError\u001b[0m                                 Traceback (most recent call last)",
      "\u001b[0;32m<ipython-input-53-3e5c50cd96e1>\u001b[0m in \u001b[0;36m<module>\u001b[0;34m()\u001b[0m\n\u001b[1;32m      2\u001b[0m \u001b[0;31m# Otherwise, snake moves as it is.\u001b[0m\u001b[0;34m\u001b[0m\u001b[0;34m\u001b[0m\u001b[0;34m\u001b[0m\u001b[0m\n\u001b[1;32m      3\u001b[0m \u001b[0;34m\u001b[0m\u001b[0m\n\u001b[0;32m----> 4\u001b[0;31m \u001b[0;32mif\u001b[0m \u001b[0msnake_head\u001b[0m \u001b[0;34m==\u001b[0m \u001b[0mrat_pos\u001b[0m\u001b[0;34m:\u001b[0m\u001b[0;34m\u001b[0m\u001b[0;34m\u001b[0m\u001b[0m\n\u001b[0m\u001b[1;32m      5\u001b[0m     \u001b[0mrat_pos\u001b[0m\u001b[0;34m,\u001b[0m \u001b[0mscore\u001b[0m \u001b[0;34m=\u001b[0m \u001b[0mcollision_with_rat\u001b[0m\u001b[0;34m(\u001b[0m\u001b[0mrat_pos\u001b[0m\u001b[0;34m,\u001b[0m \u001b[0mscore\u001b[0m\u001b[0;34m)\u001b[0m\u001b[0;34m\u001b[0m\u001b[0;34m\u001b[0m\u001b[0m\n\u001b[1;32m      6\u001b[0m     \u001b[0msnake_pos\u001b[0m\u001b[0;34m.\u001b[0m\u001b[0minsert\u001b[0m\u001b[0;34m(\u001b[0m\u001b[0;36m0\u001b[0m\u001b[0;34m,\u001b[0m \u001b[0mlist\u001b[0m\u001b[0;34m(\u001b[0m\u001b[0msnake_head\u001b[0m\u001b[0;34m)\u001b[0m\u001b[0;34m)\u001b[0m\u001b[0;34m\u001b[0m\u001b[0;34m\u001b[0m\u001b[0m\n",
      "\u001b[0;31mNameError\u001b[0m: name 'snake_head' is not defined"
     ]
    }
   ],
   "source": []
  },
  {
   "cell_type": "code",
   "execution_count": null,
   "metadata": {},
   "outputs": [],
   "source": []
  },
  {
   "cell_type": "code",
   "execution_count": 52,
   "metadata": {},
   "outputs": [
    {
     "data": {
      "text/plain": [
       "[29, 220]"
      ]
     },
     "execution_count": 52,
     "metadata": {},
     "output_type": "execute_result"
    }
   ],
   "source": []
  }
 ],
 "metadata": {
  "kernelspec": {
   "display_name": "Python 3",
   "language": "python",
   "name": "python3"
  },
  "language_info": {
   "codemirror_mode": {
    "name": "ipython",
    "version": 3
   },
   "file_extension": ".py",
   "mimetype": "text/x-python",
   "name": "python",
   "nbconvert_exporter": "python",
   "pygments_lexer": "ipython3",
   "version": "3.6.8"
  }
 },
 "nbformat": 4,
 "nbformat_minor": 2
}
